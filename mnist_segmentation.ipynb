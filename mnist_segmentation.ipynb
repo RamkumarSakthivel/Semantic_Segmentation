{
 "cells": [
  {
   "cell_type": "code",
   "execution_count": 1,
   "metadata": {},
   "outputs": [],
   "source": [
    "# Imports\n",
    "import numpy as np\n",
    "import matplotlib.pyplot as plt\n",
    "import torch\n",
    "import torchvision\n",
    "import torch.nn as nn\n",
    "import torch.nn.functional as F\n",
    "from torchvision import transforms,datasets\n",
    "import torch.optim as optim\n",
    "from torch.optim import lr_scheduler\n",
    "from torch.optim.lr_scheduler import StepLR\n",
    "from torchsummary import summary\n",
    "from torch.utils.data import TensorDataset,DataLoader"
   ]
  },
  {
   "cell_type": "code",
   "execution_count": 2,
   "metadata": {},
   "outputs": [],
   "source": [
    "# Download dataset\n",
    "orig_train_set = datasets.MNIST('data/',train=True,download=True)\n",
    "orig_test_set = datasets.MNIST('data/',train=False,download=True)"
   ]
  },
  {
   "cell_type": "code",
   "execution_count": 3,
   "metadata": {},
   "outputs": [],
   "source": [
    "# Tensor data into arrays\n",
    "\n",
    "orig_train_data = orig_train_set.data.numpy()\n",
    "orig_test_data = orig_test_set.data.numpy()\n",
    "orig_train_labels = orig_train_set.targets.numpy()\n",
    "orig_test_labels = orig_test_set.targets.numpy()"
   ]
  },
  {
   "cell_type": "code",
   "execution_count": 4,
   "metadata": {},
   "outputs": [
    {
     "name": "stdout",
     "output_type": "stream",
     "text": [
      "Generating 500 images...\n",
      "Done!\n",
      "Generating 50 images...\n",
      "Done!\n",
      "Generating 25 images...\n",
      "Done!\n"
     ]
    }
   ],
   "source": [
    "# Data creation for Segmentation \n",
    "\n",
    "orig_image_size = 28\n",
    "num_train_data = 500\n",
    "num_valid_data = 50\n",
    "num_test_data = 25\n",
    "seg_image_size = 128\n",
    "num_search_spot_iter = 250\n",
    "\n",
    "\n",
    "def seg_data_creation(num_seg_data=5250,seg_image_size=128,num_digits=9,from_train=True):\n",
    "    seg_images = np.zeros([num_seg_data,seg_image_size,seg_image_size],np.float32)\n",
    "    seg_labels = np.empty([num_seg_data,seg_image_size,seg_image_size],np.float32)\n",
    "    seg_labels.fill(10)#10 for background class\n",
    "    if from_train:\n",
    "        source_data = orig_train_data\n",
    "        source_labels = orig_train_labels\n",
    "    else:\n",
    "        source_data = orig_test_data\n",
    "        source_labels = orig_test_labels\n",
    "    print('Generating {number} images...'.format(number=num_seg_data))\n",
    "    for seg_image,seg_label in zip(seg_images,seg_labels):\n",
    "        for n in range(num_digits):\n",
    "            data_index = np.random.randint(0,len(source_data))\n",
    "            orig_image = source_data[data_index].reshape(orig_image_size,orig_image_size)\n",
    "            orig_label = source_labels[data_index]\n",
    "            orig_seg_label = np.empty([orig_image_size,orig_image_size],np.float32)\n",
    "            orig_seg_label.fill(10)\n",
    "            orig_seg_label[np.where(orig_image>0)] = orig_label\n",
    "            for i in range(num_search_spot_iter):\n",
    "                x_pos = np.random.randint(0,seg_image_size-orig_image_size)\n",
    "                y_pos = np.random.randint(0,seg_image_size-orig_image_size)\n",
    "                if seg_image[x_pos:x_pos+orig_image_size,y_pos:y_pos+orig_image_size].sum()==0:\n",
    "                    seg_image[x_pos:x_pos+orig_image_size,y_pos:y_pos+orig_image_size] = orig_image\n",
    "                    seg_label[x_pos:x_pos+orig_image_size,y_pos:y_pos+orig_image_size] = orig_seg_label\n",
    "                    break\n",
    "    print('Done!')\n",
    "    return seg_images,seg_labels\n",
    "\n",
    "\n",
    "train_seg_images,train_seg_labels = seg_data_creation(num_train_data,128,9,True)\n",
    "valid_seg_images,valid_seg_labels = seg_data_creation(num_valid_data,128,9,True) \n",
    "test_seg_images,test_seg_labels = seg_data_creation(num_test_data,128,9,False) "
   ]
  },
  {
   "cell_type": "code",
   "execution_count": 5,
   "metadata": {},
   "outputs": [
    {
     "data": {
      "image/png": "[encoded data removed]",
      "text/plain": [
       "<Figure size 864x864 with 2 Axes>"
      ]
     },
     "metadata": {
      "needs_background": "light"
     },
     "output_type": "display_data"
    }
   ],
   "source": [
    "# Visualize segmentation data\n",
    "\n",
    "viz_idx = 150\n",
    "f,(ax1,ax2) = plt.subplots(1,2,figsize=(12,12))\n",
    "ax1.imshow(train_seg_images[viz_idx],cmap='gray')\n",
    "ax1.set_title('Image')\n",
    "ax1.axis('off')\n",
    "ax2.imshow(train_seg_labels[viz_idx],cmap='jet')\n",
    "ax2.set_title('Label')\n",
    "ax2.axis('off')\n",
    "plt.show()"
   ]
  },
  {
   "cell_type": "code",
   "execution_count": 6,
   "metadata": {},
   "outputs": [],
   "source": [
    "# Create Dataloaders\n",
    "\n",
    "traindataset = TensorDataset(torch.from_numpy(train_seg_images),torch.from_numpy(train_seg_labels))\n",
    "validdataset = TensorDataset(torch.from_numpy(valid_seg_images),torch.from_numpy(valid_seg_labels))\n",
    "testdataset = TensorDataset(torch.from_numpy(test_seg_images),torch.from_numpy(test_seg_labels))\n",
    "\n",
    "train_valid_batchsize = 12\n",
    "test_batchsize = 1\n",
    "num_workers = 1\n",
    "\n",
    "train_dataloader = DataLoader(traindataset,batch_size=train_valid_batchsize,shuffle=True,num_workers=num_workers)\n",
    "valid_dataloader = DataLoader(validdataset,batch_size=train_valid_batchsize,shuffle=True,num_workers=num_workers)\n",
    "test_dataloader = DataLoader(testdataset,batch_size=test_batchsize,shuffle=True,num_workers=num_workers)"
   ]
  },
  {
   "cell_type": "code",
   "execution_count": 7,
   "metadata": {},
   "outputs": [],
   "source": [
    "# Model - UNET Architecture\n",
    "\n",
    "def double_conv(in_channels, out_channels):\n",
    "    return nn.Sequential(\n",
    "        nn.Conv2d(in_channels, out_channels, 3, padding=1),\n",
    "        nn.ReLU(),\n",
    "        nn.Conv2d(out_channels, out_channels, 3, padding=1),\n",
    "        nn.ReLU()\n",
    "    )   \n",
    "\n",
    "def upsample_conv(in_channels):\n",
    "    return nn.ConvTranspose2d(in_channels, in_channels, 2, stride=2, padding=0)\n",
    "\n",
    "class UNet_Mnist(nn.Module):\n",
    "\n",
    "    def __init__(self, n_class):\n",
    "        super().__init__()\n",
    "        self.dconv_down1 = double_conv(1, 64)\n",
    "        self.dconv_down2 = double_conv(64, 128)\n",
    "        self.dconv_down3 = double_conv(128, 256)\n",
    "        self.dconv_down4 = double_conv(256, 512)        \n",
    "\n",
    "        self.maxpool = nn.MaxPool2d(2, stride=2)\n",
    "        self.upsample = nn.Upsample(scale_factor=2, mode='bilinear', align_corners=True)        \n",
    "\n",
    "        self.dconv_up3 = double_conv(256 + 512, 256)\n",
    "        self.dconv_up2 = double_conv(128 + 256, 128)\n",
    "        self.dconv_up1 = double_conv(128 + 64, 64)\n",
    "        \n",
    "        self.conv_last = nn.Conv2d(64, n_class,1, stride=1)\n",
    "        \n",
    "        self.softmax = nn.LogSoftmax(dim=1)\n",
    "\n",
    "    def upsample_conv(in_channels):\n",
    "        return nn.ConvTranspose2d(in_channels, in_channels, 2, stride=2, padding=0)\n",
    "        \n",
    "        \n",
    "    def forward(self, x):\n",
    "        conv1 = self.dconv_down1(x)\n",
    "        x = self.maxpool(conv1)\n",
    "        conv2 = self.dconv_down2(x)\n",
    "        x = self.maxpool(conv2)\n",
    "        conv3 = self.dconv_down3(x)\n",
    "        x = self.maxpool(conv3)   \n",
    "        x = self.dconv_down4(x)\n",
    "        \n",
    "        x = self.upsample(x)   \n",
    "        x = torch.cat([x, conv3], dim=1)\n",
    "        x = self.dconv_up3(x)\n",
    "        x = self.upsample(x)\n",
    "        x = torch.cat([x, conv2], dim=1)       \n",
    "        x = self.dconv_up2(x)\n",
    "        x = self.upsample(x)\n",
    "        x = torch.cat([x, conv1], dim=1)   \n",
    "        x = self.dconv_up1(x)\n",
    "        x = self.conv_last(x)\n",
    "        out = self.softmax(x)\n",
    "        \n",
    "        return out"
   ]
  },
  {
   "cell_type": "code",
   "execution_count": 8,
   "metadata": {},
   "outputs": [
    {
     "name": "stdout",
     "output_type": "stream",
     "text": [
      "GPU available\n"
     ]
    }
   ],
   "source": [
    "# Set device\n",
    "\n",
    "if torch.cuda.is_available():\n",
    "    print('GPU available')\n",
    "    device='cuda'\n",
    "else:\n",
    "    print('GPU not available')\n",
    "    device='cpu'\n",
    "    \n",
    "num_classes = 11 #10 digits and background\n",
    "    \n",
    "model = UNet_Mnist(num_classes).to(device)"
   ]
  },
  {
   "cell_type": "code",
   "execution_count": 9,
   "metadata": {},
   "outputs": [],
   "source": [
    "# Loss\n",
    "\n",
    "def label_split(labels,targetimage,n_class):\n",
    "    for i in range(n_class):\n",
    "        labels[:,i,:,:][targetimage==i] = 1\n",
    "    return labels\n",
    "\n",
    "def calc_loss(pred,target,num_classes):\n",
    "    label_ph = torch.zeros_like(pred)\n",
    "    label = label_split(label_ph,target,num_classes)\n",
    "    bce_loss = F.binary_cross_entropy_with_logits(pred, label)\n",
    "    return bce_loss"
   ]
  },
  {
   "cell_type": "code",
   "execution_count": 10,
   "metadata": {},
   "outputs": [],
   "source": [
    "# Train and validate\n",
    "\n",
    "def train(train_dataloader,model,optimizer,device):\n",
    "    total_train_loss = 0\n",
    "    for i,(x,y) in enumerate(train_dataloader):\n",
    "        model.train()\n",
    "        inp = x.unsqueeze(1).to(device)\n",
    "        tar = y.to(device)\n",
    "        pred = model(inp)\n",
    "        loss = calc_loss(pred,tar,num_classes)\n",
    "        optimizer.zero_grad()\n",
    "        loss.backward()\n",
    "        optimizer.step()\n",
    "        total_train_loss += loss.item()\n",
    "    train_avg_loss = total_train_loss / len(train_dataloader)\n",
    "    print('Training Loss:',train_avg_loss)\n",
    "\n",
    "def validate(valid_dataloader,model,device):\n",
    "    total_valid_loss = 0\n",
    "    for i,(x,y) in enumerate(valid_dataloader):\n",
    "        model.eval()\n",
    "        inp = x.unsqueeze(1).to(device)\n",
    "        tar = y.to(device)\n",
    "        pred = model(inp)\n",
    "        loss = calc_loss(pred,tar,num_classes)\n",
    "        total_valid_loss += loss.item()\n",
    "    valid_avg_loss = total_valid_loss / len(valid_dataloader)\n",
    "    print('Validation Loss:',valid_avg_loss)"
   ]
  },
  {
   "cell_type": "code",
   "execution_count": null,
   "metadata": {},
   "outputs": [],
   "source": [
    "# Hyperparameters\n",
    "epochs = 20\n",
    "lr = 1e-3\n",
    "optimizer = optim.Adam(model.parameters(), lr=lr)\n",
    "\n",
    "# Train\n",
    "for epoch in range(epochs):\n",
    "    print('Epoch:',epoch+1)\n",
    "    train(train_dataloader,model,optimizer,device)\n",
    "    validate(valid_dataloader,model,device)"
   ]
  },
  {
   "cell_type": "code",
   "execution_count": 12,
   "metadata": {},
   "outputs": [
    {
     "data": {
      "text/plain": [
       "Text(0.5, 1.0, 'Prediction')"
      ]
     },
     "execution_count": 12,
     "metadata": {},
     "output_type": "execute_result"
    },
    {
     "data": {
      "image/png": "[encoded data removed]",
      "text/plain": [
       "<Figure size 864x864 with 3 Axes>"
      ]
     },
     "metadata": {
      "needs_background": "light"
     },
     "output_type": "display_data"
    }
   ],
   "source": [
    "# Test\n",
    "\n",
    "x,y = next(iter(test_dataloader))\n",
    "model.eval()\n",
    "inp = x.unsqueeze(1).to(device)\n",
    "pred = model(inp)\n",
    "pred_max = torch.argmax(pred,dim=1)\n",
    "\n",
    "\n",
    "\n",
    "# Visualize\n",
    "\n",
    "fig,(ax1,ax2,ax3) = plt.subplots(1,3,figsize=(12,12))\n",
    "ax1.imshow(x.squeeze(0).cpu(),cmap='gray')\n",
    "ax1.axis('off')\n",
    "ax1.set_title('Input')\n",
    "ax2.imshow(y.squeeze(0).cpu(),cmap='jet')\n",
    "ax2.axis('off')\n",
    "ax2.set_title('Target')\n",
    "ax3.imshow(pred_max.squeeze(0).cpu(),cmap='jet')\n",
    "ax3.axis('off')\n",
    "ax3.set_title('Prediction')"
   ]
  },
  {
   "cell_type": "code",
   "execution_count": 13,
   "metadata": {},
   "outputs": [],
   "source": [
    "# Remove cuda cache\n",
    "\n",
    "torch.cuda.empty_cache()"
   ]
  }
 ],
 "metadata": {
  "kernelspec": {
   "display_name": "Python 3",
   "language": "python",
   "name": "python3"
  },
  "language_info": {
   "codemirror_mode": {
    "name": "ipython",
    "version": 3
   },
   "file_extension": ".py",
   "mimetype": "text/x-python",
   "name": "python",
   "nbconvert_exporter": "python",
   "pygments_lexer": "ipython3",
   "version": "3.6.9"
  }
 },
 "nbformat": 4,
 "nbformat_minor": 2
}
