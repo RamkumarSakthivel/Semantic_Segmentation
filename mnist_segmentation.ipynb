{
 "cells": [
  {
   "cell_type": "code",
   "execution_count": 21,
   "metadata": {},
   "outputs": [],
   "source": [
    "# Imports\n",
    "import numpy as np\n",
    "import matplotlib.pyplot as plt\n",
    "import torch\n",
    "import torchvision\n",
    "import torch.nn as nn\n",
    "import torch.nn.functional as F\n",
    "from torchvision import transforms,datasets\n",
    "import torch.optim as optim\n",
    "from torch.optim import lr_scheduler\n",
    "from torch.optim.lr_scheduler import StepLR\n",
    "from torchsummary import summary\n",
    "from torch.utils.data import TensorDataset,DataLoader"
   ]
  },
  {
   "cell_type": "code",
   "execution_count": 8,
   "metadata": {},
   "outputs": [],
   "source": [
    "# Download dataset\n",
    "orig_train_set = datasets.MNIST('data/',train=True,download=True)\n",
    "orig_test_set = datasets.MNIST('data/',train=False,download=True)"
   ]
  },
  {
   "cell_type": "code",
   "execution_count": 9,
   "metadata": {},
   "outputs": [],
   "source": [
    "# Tensor data into arrays\n",
    "\n",
    "orig_train_data = orig_train_set.data.numpy()\n",
    "orig_test_data = orig_test_set.data.numpy()\n",
    "orig_train_labels = orig_train_set.targets.numpy()\n",
    "orig_test_labels = orig_test_set.targets.numpy()"
   ]
  },
  {
   "cell_type": "code",
   "execution_count": 10,
   "metadata": {},
   "outputs": [
    {
     "name": "stdout",
     "output_type": "stream",
     "text": [
      "Generating 5000 images...\n",
      "Done!\n",
      "Generating 250 images...\n",
      "Done!\n",
      "Generating 1000 images...\n",
      "Done!\n"
     ]
    }
   ],
   "source": [
    "# Data creation for Segmentation \n",
    "\n",
    "orig_image_size = 28\n",
    "num_train_data = 5000\n",
    "num_valid_data = 250\n",
    "num_test_data = 1000\n",
    "seg_image_size = 128\n",
    "num_search_spot_iter = 250\n",
    "\n",
    "\n",
    "def seg_data_creation(num_seg_data=5250,seg_image_size=128,num_digits=9,from_train=True):\n",
    "    seg_images = np.zeros([num_seg_data,seg_image_size,seg_image_size],np.float32)\n",
    "    seg_labels = np.empty([num_seg_data,seg_image_size,seg_image_size],np.float32)\n",
    "    seg_labels.fill(10)#10 for background class\n",
    "    if from_train:\n",
    "        source_data = orig_train_data\n",
    "        source_labels = orig_train_labels\n",
    "    else:\n",
    "        source_data = orig_test_data\n",
    "        source_labels = orig_test_labels\n",
    "    print('Generating {number} images...'.format(number=num_seg_data))\n",
    "    for seg_image,seg_label in zip(seg_images,seg_labels):\n",
    "        for n in range(num_digits):\n",
    "            data_index = np.random.randint(0,len(source_data))\n",
    "            orig_image = source_data[data_index].reshape(orig_image_size,orig_image_size)\n",
    "            orig_label = source_labels[data_index]\n",
    "            orig_seg_label = np.empty([orig_image_size,orig_image_size],np.float32)\n",
    "            orig_seg_label.fill(10)\n",
    "            orig_seg_label[np.where(orig_image>0)] = orig_label\n",
    "            for i in range(num_search_spot_iter):\n",
    "                x_pos = np.random.randint(0,seg_image_size-orig_image_size)\n",
    "                y_pos = np.random.randint(0,seg_image_size-orig_image_size)\n",
    "                if seg_image[x_pos:x_pos+orig_image_size,y_pos:y_pos+orig_image_size].sum()==0:\n",
    "                    seg_image[x_pos:x_pos+orig_image_size,y_pos:y_pos+orig_image_size] = orig_image\n",
    "                    seg_label[x_pos:x_pos+orig_image_size,y_pos:y_pos+orig_image_size] = orig_seg_label\n",
    "                    break\n",
    "    print('Done!')\n",
    "    return seg_images,seg_labels\n",
    "\n",
    "\n",
    "train_seg_images,train_seg_labels = seg_data_creation(5000,128,9,True)\n",
    "valid_seg_images,valid_seg_labels = seg_data_creation(250,128,9,True) \n",
    "test_seg_images,test_seg_labels = seg_data_creation(1000,128,9,False) "
   ]
  },
  {
   "cell_type": "code",
   "execution_count": 11,
   "metadata": {},
   "outputs": [
    {
     "data": {
      "image/png": "[encoded data removed]",
      "text/plain": [
       "<Figure size 864x864 with 2 Axes>"
      ]
     },
     "metadata": {
      "needs_background": "light"
     },
     "output_type": "display_data"
    }
   ],
   "source": [
    "# Visualize segmentation data\n",
    "\n",
    "viz_idx = 1500\n",
    "f,(ax1,ax2) = plt.subplots(1,2,figsize=(12,12))\n",
    "ax1.imshow(train_seg_images[viz_idx],cmap='gray')\n",
    "ax1.set_title('Image')\n",
    "ax1.axis('off')\n",
    "ax2.imshow(train_seg_labels[viz_idx],cmap='jet')\n",
    "ax2.set_title('Label')\n",
    "ax2.axis('off')\n",
    "plt.show()"
   ]
  },
  {
   "cell_type": "code",
   "execution_count": 22,
   "metadata": {},
   "outputs": [],
   "source": [
    "# Create Dataloaders\n",
    "\n",
    "traindataset = TensorDataset(torch.from_numpy(train_seg_images),torch.from_numpy(train_seg_labels))\n",
    "validdataset = TensorDataset(torch.from_numpy(valid_seg_images),torch.from_numpy(valid_seg_labels))\n",
    "testdataset = TensorDataset(torch.from_numpy(test_seg_images),torch.from_numpy(test_seg_labels))\n",
    "\n",
    "train_valid_batchsize = 32\n",
    "test_batchsize = 16\n",
    "num_workers = 1\n",
    "\n",
    "train_dataloader = DataLoader(traindataset,batch_size=train_valid_batchsize,shuffle=True,num_workers=num_workers)\n",
    "valid_dataloader = DataLoader(validdataset,batch_size=train_valid_batchsize,shuffle=True,num_workers=num_workers)\n",
    "test_dataloader = DataLoader(testdataset,batch_size=test_batchsize,shuffle=True,num_workers=num_workers)"
   ]
  },
  {
   "cell_type": "code",
   "execution_count": 18,
   "metadata": {},
   "outputs": [],
   "source": [
    "# Model - UNET Architecture\n",
    "\n",
    "def double_conv(in_channels, out_channels):\n",
    "    return nn.Sequential(\n",
    "        nn.Conv2d(in_channels, out_channels, 3, padding=1),\n",
    "        nn.ReLU(),\n",
    "        nn.Conv2d(out_channels, out_channels, 3, padding=1),\n",
    "        nn.ReLU()\n",
    "    )   \n",
    "\n",
    "def upsample_conv(in_channels):\n",
    "    return nn.ConvTranspose2d(in_channels, in_channels, 2, stride=2, padding=0)\n",
    "\n",
    "class unet_mnist(nn.Module):\n",
    "\n",
    "    def __init__(self, n_class):\n",
    "        super().__init__()\n",
    "        self.dconv_down1 = double_conv(1, 64)\n",
    "        self.dconv_down2 = double_conv(64, 128)\n",
    "        self.dconv_down3 = double_conv(128, 256)\n",
    "        self.dconv_down4 = double_conv(256, 512)        \n",
    "\n",
    "        self.maxpool = nn.MaxPool2d(2, stride=2)\n",
    "        self.upsample = nn.Upsample(scale_factor=2, mode='bilinear', align_corners=True)        \n",
    "\n",
    "        self.dconv_up3 = double_conv(256 + 512, 256)\n",
    "        self.dconv_up2 = double_conv(128 + 256, 128)\n",
    "        self.dconv_up1 = double_conv(128 + 64, 64)\n",
    "        \n",
    "        self.conv_last = nn.Conv2d(64, n_class,1, stride=1)\n",
    "\n",
    "    def upsample_conv(in_channels):\n",
    "        return nn.ConvTranspose2d(in_channels, in_channels, 2, stride=2, padding=0)\n",
    "        \n",
    "        \n",
    "    def forward(self, x):\n",
    "        conv1 = self.dconv_down1(x)\n",
    "        x = self.maxpool(conv1)\n",
    "        conv2 = self.dconv_down2(x)\n",
    "        x = self.maxpool(conv2)\n",
    "        conv3 = self.dconv_down3(x)\n",
    "        x = self.maxpool(conv3)   \n",
    "        x = self.dconv_down4(x)\n",
    "        \n",
    "        x = self.upsample(x)   \n",
    "        x = torch.cat([x, conv3], dim=1)\n",
    "        x = self.dconv_up3(x)\n",
    "        x = self.upsample(x)\n",
    "        x = torch.cat([x, conv2], dim=1)       \n",
    "        x = self.dconv_up2(x)\n",
    "        x = self.upsample(x)\n",
    "        x = torch.cat([x, conv1], dim=1)   \n",
    "        x = self.dconv_up1(x)\n",
    "        out = self.conv_last(x)\n",
    "        \n",
    "        return out\n"
   ]
  },
  {
   "cell_type": "code",
   "execution_count": null,
   "metadata": {},
   "outputs": [],
   "source": []
  }
 ],
 "metadata": {
  "kernelspec": {
   "display_name": "Python 3",
   "language": "python",
   "name": "python3"
  },
  "language_info": {
   "codemirror_mode": {
    "name": "ipython",
    "version": 3
   },
   "file_extension": ".py",
   "mimetype": "text/x-python",
   "name": "python",
   "nbconvert_exporter": "python",
   "pygments_lexer": "ipython3",
   "version": "3.6.9"
  }
 },
 "nbformat": 4,
 "nbformat_minor": 2
}
