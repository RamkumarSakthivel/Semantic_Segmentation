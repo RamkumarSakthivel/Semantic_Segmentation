{
 "cells": [
  {
   "cell_type": "code",
   "execution_count": 1,
   "metadata": {},
   "outputs": [],
   "source": [
    "# Imports\n",
    "import numpy as np\n",
    "import matplotlib.pyplot as plt\n",
    "import torch\n",
    "import torchvision\n",
    "import torch.nn as nn\n",
    "import torch.nn.functional as F\n",
    "from torchvision import transforms,datasets\n",
    "import torch.optim as optim\n",
    "from torch.optim import lr_scheduler\n",
    "from torch.optim.lr_scheduler import StepLR"
   ]
  },
  {
   "cell_type": "code",
   "execution_count": 2,
   "metadata": {},
   "outputs": [],
   "source": [
    "# Download dataset\n",
    "orig_train_set = datasets.MNIST('data/',train=True,download=True)\n",
    "orig_test_set = datasets.MNIST('data/',train=False,download=True)"
   ]
  },
  {
   "cell_type": "code",
   "execution_count": 3,
   "metadata": {},
   "outputs": [],
   "source": [
    "# Tensor data into arrays\n",
    "\n",
    "orig_train_data = orig_train_set.data.numpy()\n",
    "orig_test_data = orig_test_set.data.numpy()\n",
    "orig_train_labels = orig_train_set.targets.numpy()\n",
    "orig_test_labels = orig_test_set.targets.numpy()"
   ]
  },
  {
   "cell_type": "code",
   "execution_count": 4,
   "metadata": {},
   "outputs": [
    {
     "name": "stdout",
     "output_type": "stream",
     "text": [
      "Generating 5000 images...\n",
      "Done!\n",
      "Generating 250 images...\n",
      "Done!\n",
      "Generating 1000 images...\n",
      "Done!\n"
     ]
    }
   ],
   "source": [
    "# Data creation for Segmentation \n",
    "\n",
    "orig_image_size = 28\n",
    "num_train_data = 5000\n",
    "num_valid_data = 250\n",
    "num_test_data = 1000\n",
    "seg_image_size = 128\n",
    "num_search_spot_iter = 250\n",
    "\n",
    "\n",
    "def seg_data_creation(num_seg_data=5250,seg_image_size=128,num_digits=9,from_train=True):\n",
    "    seg_images = np.zeros([num_seg_data,seg_image_size,seg_image_size],np.float32)\n",
    "    seg_labels = np.empty([num_seg_data,seg_image_size,seg_image_size],np.float32)\n",
    "    seg_labels.fill(10)#10 for background class\n",
    "    if from_train:\n",
    "        source_data = orig_train_data\n",
    "        source_labels = orig_train_labels\n",
    "    else:\n",
    "        source_data = orig_test_data\n",
    "        source_labels = orig_test_labels\n",
    "    print('Generating {number} images...'.format(number=num_seg_data))\n",
    "    for seg_image,seg_label in zip(seg_images,seg_labels):\n",
    "        for n in range(num_digits):\n",
    "            data_index = np.random.randint(0,len(source_data))\n",
    "            orig_image = source_data[data_index].reshape(orig_image_size,orig_image_size)\n",
    "            orig_label = source_labels[data_index]\n",
    "            orig_seg_label = np.empty([orig_image_size,orig_image_size],np.float32)\n",
    "            orig_seg_label.fill(10)\n",
    "            orig_seg_label[np.where(orig_image>0)] = orig_label\n",
    "            for i in range(num_search_spot_iter):\n",
    "                x_pos = np.random.randint(0,seg_image_size-orig_image_size)\n",
    "                y_pos = np.random.randint(0,seg_image_size-orig_image_size)\n",
    "                if seg_image[x_pos:x_pos+orig_image_size,y_pos:y_pos+orig_image_size].sum()==0:\n",
    "                    seg_image[x_pos:x_pos+orig_image_size,y_pos:y_pos+orig_image_size] = orig_image\n",
    "                    seg_label[x_pos:x_pos+orig_image_size,y_pos:y_pos+orig_image_size] = orig_seg_label\n",
    "                    break\n",
    "    print('Done!')\n",
    "    return seg_images,seg_labels\n",
    "\n",
    "\n",
    "train_seg_images,train_seg_labels = seg_data_creation(5000,128,9,True)\n",
    "valid_seg_images,valid_seg_labels = seg_data_creation(250,128,9,True) \n",
    "test_seg_images,test_seg_labels = seg_data_creation(1000,128,9,False) "
   ]
  },
  {
   "cell_type": "code",
   "execution_count": 7,
   "metadata": {},
   "outputs": [
    {
     "data": {
      "image/png": "[encoded data removed]",
      "text/plain": [
       "<Figure size 864x864 with 2 Axes>"
      ]
     },
     "metadata": {
      "needs_background": "light"
     },
     "output_type": "display_data"
    }
   ],
   "source": [
    "# Visualize segmentation data\n",
    "\n",
    "viz_idx = 1500\n",
    "f,(ax1,ax2) = plt.subplots(1,2,figsize=(12,12))\n",
    "ax1.imshow(train_seg_images[viz_idx],cmap='gray')\n",
    "ax1.set_title('Image')\n",
    "ax1.axis('off')\n",
    "ax2.imshow(train_seg_labels[viz_idx],cmap='jet')\n",
    "ax2.set_title('Label')\n",
    "ax2.axis('off')\n",
    "plt.show()"
   ]
  },
  {
   "cell_type": "code",
   "execution_count": null,
   "metadata": {},
   "outputs": [],
   "source": []
  }
 ],
 "metadata": {
  "kernelspec": {
   "display_name": "Python 3",
   "language": "python",
   "name": "python3"
  },
  "language_info": {
   "codemirror_mode": {
    "name": "ipython",
    "version": 3
   },
   "file_extension": ".py",
   "mimetype": "text/x-python",
   "name": "python",
   "nbconvert_exporter": "python",
   "pygments_lexer": "ipython3",
   "version": "3.6.9"
  }
 },
 "nbformat": 4,
 "nbformat_minor": 2
}
